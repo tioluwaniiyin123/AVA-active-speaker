{
  "nbformat": 4,
  "nbformat_minor": 0,
  "metadata": {
    "colab": {
      "provenance": [],
      "authorship_tag": "ABX9TyOstb1EEwOv11EZhg37SL9a",
      "include_colab_link": true
    },
    "kernelspec": {
      "name": "python3",
      "display_name": "Python 3"
    },
    "language_info": {
      "name": "python"
    }
  },
  "cells": [
    {
      "cell_type": "markdown",
      "metadata": {
        "id": "view-in-github",
        "colab_type": "text"
      },
      "source": [
        "<a href=\"https://colab.research.google.com/github/tioluwaniiyin123/AVA-active-speaker/blob/main/(64%2C4)%20computation%20on%20CPU.ipynb\" target=\"_parent\"><img src=\"https://colab.research.google.com/assets/colab-badge.svg\" alt=\"Open In Colab\"/></a>"
      ]
    },
    {
      "cell_type": "code",
      "execution_count": 167,
      "metadata": {
        "id": "oh5VX6BtBZtI"
      },
      "outputs": [],
      "source": [
        "import numpy as np\n",
        "import timeit\n",
        "import time\n",
        "from functools import partial\n",
        "\n",
        "def matmul(A, B):\n",
        "    n = len(A)\n",
        "    C = np.zeros((n, n))\n",
        "    for i in range(n):\n",
        "        for j in range(n):\n",
        "            for k in range(n):\n",
        "                C[i][j] += A[i][k] * B[k][j]\n",
        "    return C\n",
        "\n",
        "# Create A (nxn) random matrix\n",
        "n = 2\n",
        " # you can change this size\n",
        "A = np.random.rand(n, n)\n",
        "\n",
        "# Multiply A × A\n",
        "result = matmul(A, A)\n",
        "\n",
        "\n"
      ]
    },
    {
      "cell_type": "code",
      "source": [
        "print(\"Result Matrix C= (A x A):\")\n",
        "print(result)"
      ],
      "metadata": {
        "colab": {
          "base_uri": "https://localhost:8080/"
        },
        "collapsed": true,
        "id": "HGd7ehlXCqJ0",
        "outputId": "42b004dd-96e2-4ff5-db16-7d365c240f00"
      },
      "execution_count": 168,
      "outputs": [
        {
          "output_type": "stream",
          "name": "stdout",
          "text": [
            "Result Matrix C= (A x A):\n",
            "[[0.05423386 0.24156685]\n",
            " [0.00025434 0.00293784]]\n"
          ]
        }
      ]
    },
    {
      "cell_type": "code",
      "source": [
        "\n",
        "def get_block(n,p, i, j): #i= bloc krow j = block col\n",
        "  b= n//p # block_size\n",
        "  i0, i1 = i *b, (i + 1) * b\n",
        "  j0, j1 = j * b, (j + 1) * b\n",
        "  return slice(i0, i1), slice(j0, j1) ## start a index i0(inclusive) stop at index i1(exclusive)\n",
        "\n",
        "\n",
        "\n",
        "# Simulate one processor computing C_ij block\n",
        "def matmul_block(A,n, i, j, p):#i,j is matrixes of the block which will result in c\n",
        "    n = A.shape[0] # access first element\n",
        "    b = n // p# size of the block\n",
        "    C_block = np.zeros((b, b))# all zeroes\n",
        "    for k in range(p):\n",
        "\n",
        "        i_slice, k_slice = get_block(n, p, i, k)\n",
        "        k_slice2, j_slice = get_block(n, p, k, j)\n",
        "        A_ik = A[i_slice, k_slice]\n",
        "        A_kj = A[k_slice2, j_slice]\n",
        "\n",
        "         #manual multipliction of the block to get the total block\n",
        "        for row in range(b):\n",
        "            for col in range(b):\n",
        "                total = 0\n",
        "                for inner in range(b):  # for the inner loop index\n",
        "                    total += A_ik[row, inner] * A_kj[inner, col]\n",
        "                C_block[row, col] += total\n",
        "    return C_block\n",
        "\n"
      ],
      "metadata": {
        "id": "zJrUtVE7EEgJ"
      },
      "execution_count": 169,
      "outputs": []
    },
    {
      "cell_type": "code",
      "source": [
        "def parallel_matmul(A, p): #compute_c\n",
        "    n = A.shape[0]\n",
        "    b = n // p\n",
        "    C = np.zeros((n, n))\n",
        "    #simulate each processor\n",
        "    for i in range(p):\n",
        "        for j in range(p):\n",
        "            # Use i and j as block indices bi and bj\n",
        "            C_block = matmul_block(A, n, i, j, p)\n",
        "            i_slice, j_slice = get_block(n, p, i, j)\n",
        "            C[i_slice, j_slice] = C_block\n",
        "\n",
        "    return C"
      ],
      "metadata": {
        "id": "EuJ16rp6Hk8p"
      },
      "execution_count": 170,
      "outputs": []
    },
    {
      "cell_type": "code",
      "source": [
        "import time\n",
        "\n",
        "def run_test(n, p):\n",
        "    A = np.random.rand(n, n)\n",
        "\n",
        "    # Time only the computation\n",
        "    start = timeit.default_timer()\n",
        "    C = parallel_matmul(A, p)\n",
        "    stop = timeit.default_timer()\n",
        "\n",
        "    execution_time = stop - start\n",
        "\n",
        "    # Output\n",
        "    print(f\"n = {n}, p = {p}\")\n",
        "    print(f\"Block size: {n//p} x {n//p}\")\n",
        "    print(f\"Computation time on a cpu: {execution_time:.6f} seconds\")\n"
      ],
      "metadata": {
        "id": "OHEVJUqJOhjJ"
      },
      "execution_count": 171,
      "outputs": []
    },
    {
      "cell_type": "code",
      "source": [
        "run_test(64, 4)"
      ],
      "metadata": {
        "colab": {
          "base_uri": "https://localhost:8080/"
        },
        "id": "neZv1fS3S8FQ",
        "outputId": "66d820ff-575f-4b02-df00-0e40b28204b3",
        "collapsed": true
      },
      "execution_count": 172,
      "outputs": [
        {
          "output_type": "stream",
          "name": "stdout",
          "text": [
            "n = 64, p = 4\n",
            "Block size: 16 x 16\n",
            "Computation time on a cpu: 0.122780 seconds\n"
          ]
        }
      ]
    }
  ]
}